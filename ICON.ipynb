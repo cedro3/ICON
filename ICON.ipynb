{
  "nbformat": 4,
  "nbformat_minor": 0,
  "metadata": {
    "colab": {
      "provenance": [],
      "collapsed_sections": [],
      "machine_shape": "hm",
      "include_colab_link": true
    },
    "kernelspec": {
      "name": "python3",
      "display_name": "Python 3"
    },
    "language_info": {
      "name": "python"
    },
    "accelerator": "GPU",
    "gpuClass": "standard"
  },
  "cells": [
    {
      "cell_type": "markdown",
      "metadata": {
        "id": "view-in-github",
        "colab_type": "text"
      },
      "source": [
        "<a href=\"https://colab.research.google.com/github/cedro3/ICON/blob/master/ICON.ipynb\" target=\"_parent\"><img src=\"https://colab.research.google.com/assets/colab-badge.svg\" alt=\"Open In Colab\"/></a>"
      ]
    },
    {
      "cell_type": "code",
      "source": [
        "#@title **set up (about 20 min)**\n",
        "\n",
        "# get the code of ICON\n",
        "!git clone https://github.com/cedro3/ICON.git\n",
        "%cd /content/ICON\n",
        "\n",
        "# install package\n",
        "!bash colab.sh\n",
        "\n",
        "# download data\n",
        "import gdown\n",
        "gdown.download('https://drive.google.com/uc?id=1rX8EmsO8SBJcXtYTNjz2Pyk5H2FjgpNJ', 'data.zip', quiet=False)\n",
        "! unzip data.zip\n",
        "\n",
        "# import function\n",
        "from function import *"
      ],
      "metadata": {
        "id": "B9kjSIzofhNc"
      },
      "execution_count": null,
      "outputs": []
    },
    {
      "cell_type": "code",
      "source": [
        "#@title **display sample**\n",
        "display_pic('/content/ICON/examples')"
      ],
      "metadata": {
        "id": "xF9eIdNdaPAH"
      },
      "execution_count": null,
      "outputs": []
    },
    {
      "cell_type": "code",
      "source": [
        "#@title **make 3D-model**\n",
        "\n",
        "# setting\n",
        "model = 'icon-filter'  # icon-filter / pifu / pamir\n",
        "image_folder = 'image'\n",
        "filename = '05.jpg' #@param {type:\"string\"}\n",
        "reset_folder(image_folder)\n",
        "shutil.copy('examples/'+filename, image_folder+'/'+filename)\n",
        "\n",
        "# modeling\n",
        "!source activate icon && python -m apps.infer -cfg ./configs/{model}.yaml -loop_smpl 100 -loop_cloth 200 -colab -gpu 0 -export_video -in_dir {image_folder}\n",
        "\n",
        "# clear log\n",
        "from IPython.display import clear_output\n",
        "clear_output()\n",
        "\n",
        "# change codec\n",
        "video_path = f\"/content/ICON/results/{model}/vid/{filename[:-4]}_cloth.mp4\"\n",
        "video_display_path = f\"/content/ICON/results/{model}/vid/{filename[:-4]}_display.mp4\"\n",
        "!ffmpeg -r 30 -i $video_path -vcodec libx264 $video_display_path -y -loglevel quiet\n",
        "\n",
        "# make variation\n",
        "import cv2\n",
        "cap = cv2.VideoCapture(video_display_path)\n",
        "width = cap.get(cv2.CAP_PROP_FRAME_WIDTH)\n",
        "\n",
        "crop1 = 'crop=512:512:'+str(width-512)+':0'\n",
        "! ffmpeg -y -i $video_display_path -filter:v $crop1 -async 1 tmp1.mp4 -loglevel quiet\n",
        "crop2 = 'crop='+str(width-1024)+':512:0:0'\n",
        "! ffmpeg -y -i $video_display_path -filter:v $crop2 -async 1 tmp2.mp4 -loglevel quiet\n",
        "video_display_path1 = os.path.dirname(video_display_path)+'/'+os.path.splitext(filename)[0]+'_c.mp4'\n",
        "! ffmpeg -y -i tmp2.mp4 -i tmp1.mp4 -filter_complex \"hstack\" $video_display_path1 -loglevel quiet\n",
        "\n",
        "crop3 = 'crop=512:512:'+str(width-1024)+':0'\n",
        "! ffmpeg -y -i $video_display_path -filter:v $crop3 -async 1 tmp3.mp4 -loglevel quiet\n",
        "video_display_path2 = os.path.dirname(video_display_path)+'/'+os.path.splitext(filename)[0]+'_b.mp4'\n",
        "! ffmpeg -y -i tmp2.mp4 -i tmp3.mp4 -filter_complex \"hstack\" $video_display_path2 -loglevel quiet\n",
        "\n",
        "# display mp4\n",
        "display_mp4(video_display_path1)"
      ],
      "metadata": {
        "id": "eOpQuxrxaoGt"
      },
      "execution_count": null,
      "outputs": []
    },
    {
      "cell_type": "code",
      "source": [
        "#@title **download mp4（chrome）**\n",
        "from google.colab import files\n",
        "style = 'cloth' #@param ['full', 'cloth', 'body']\n",
        "if style == 'full':\n",
        "  files.download(video_display_path)\n",
        "if style == 'cloth':\n",
        "  files.download(video_display_path1)\n",
        "if style == 'body':\n",
        "  files.download(video_display_path2)"
      ],
      "metadata": {
        "id": "bFpdWcIobaWA"
      },
      "execution_count": null,
      "outputs": []
    }
  ]
}